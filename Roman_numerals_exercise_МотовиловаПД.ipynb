{
 "cells": [
  {
   "cell_type": "markdown",
   "metadata": {},
   "source": [
    "# Roman numerals"
   ]
  },
  {
   "cell_type": "markdown",
   "metadata": {},
   "source": [
    "## I. Roman numerals to decimals\n",
    "\n",
    "Write a function which receives a Roman numeral written out as a string, and returns an integer representing the decimal form of the input number. "
   ]
  },
  {
   "cell_type": "code",
   "execution_count": 66,
   "metadata": {},
   "outputs": [],
   "source": [
    "mapping_roman_to_decimal = {\n",
    "    \"I\" : 1, \n",
    "    \"V\" : 5,\n",
    "    \"X\" : 10,\n",
    "    \"L\" : 50,\n",
    "    \"C\" : 100,\n",
    "    \"D\" : 500,\n",
    "    \"M\" : 1000 \n",
    "}"
   ]
  },
  {
   "cell_type": "code",
   "execution_count": 67,
   "metadata": {},
   "outputs": [],
   "source": [
    "def roman_to_decimal(rom):\n",
    "    a = [mapping_roman_to_decimal[rom[-1]]]\n",
    "    prev = a[0]\n",
    "    for i in rom[-2::-1]:\n",
    "        if mapping_roman_to_decimal[i] < prev:\n",
    "            a.append(-mapping_roman_to_decimal[i])\n",
    "        else:\n",
    "            a.append(mapping_roman_to_decimal[i])\n",
    "        prev = mapping_roman_to_decimal[i]\n",
    "    dec = sum(a)\n",
    "    return dec"
   ]
  },
  {
   "cell_type": "markdown",
   "metadata": {},
   "source": [
    "Here are some tests for you to test your code. Your code must pass all of them. You also need to come up with several more tests (your choice)."
   ]
  },
  {
   "cell_type": "code",
   "execution_count": 68,
   "metadata": {},
   "outputs": [
    {
     "name": "stdout",
     "output_type": "stream",
     "text": [
      "True\n",
      "True\n",
      "True\n",
      "True\n",
      "True\n",
      "True\n",
      "True\n",
      "True\n",
      "True\n"
     ]
    }
   ],
   "source": [
    "test_pairs = [(\"IX\", 9), (\"XI\", 11), (\"MCCII\", 1202), (\"MMXVIII\", 2018), (\"XLIX\", 49),\n",
    "              (\"XVIIII\", 19), (\"XIX\", 19), (\"MCDXLIV\", 1444), (\"MCMXCIX\", 1999)]\n",
    "\n",
    "for rom, dec in test_pairs:\n",
    "    converted = roman_to_decimal(rom)\n",
    "    print(converted == dec)"
   ]
  },
  {
   "cell_type": "markdown",
   "metadata": {},
   "source": [
    "Now you can run tests in file `tests_Roman_numerals.txt`. You need to insert a number of false results and listed false results in respective field in Google Form for this lesson."
   ]
  },
  {
   "cell_type": "code",
   "execution_count": 71,
   "metadata": {},
   "outputs": [],
   "source": [
    "p_roman = \"tests_roman_to_decimal.txt\"\n",
    "with open(p_roman, \"rb\") as fp_roman:\n",
    "    lines_roman=fp_roman.readlines()\n",
    "\n",
    "test_data_roman = [line.strip().decode(\"ascii\").split(',') for line in lines_roman]\n",
    "test_data_roman = [(line[0], int(line[1])) for line in test_data_roman]"
   ]
  },
  {
   "cell_type": "code",
   "execution_count": 72,
   "metadata": {},
   "outputs": [
    {
     "name": "stdout",
     "output_type": "stream",
     "text": [
      "MCCXLVIII 1246\n",
      "MCCLXX 1273\n",
      "MDCCX 1708\n",
      "LXXXIV 81\n",
      "DCCXCVII 799\n",
      "CDXXIX 430\n",
      "MDCCXCI 1790\n"
     ]
    }
   ],
   "source": [
    "for rom, dec in test_data:\n",
    "    converted = roman_to_decimal(rom)\n",
    "    if converted != dec:\n",
    "        print(rom, dec)"
   ]
  },
  {
   "cell_type": "markdown",
   "metadata": {},
   "source": [
    "## II. Decimal numbers to roman numerals.\n",
    "\n",
    "The maximum grade for first task (Roman to decimal) is 7 on the 10-point HSE scale. For extra credit, complete the second task: *given a decimal number, convert it to the Roman form*."
   ]
  },
  {
   "cell_type": "code",
   "execution_count": 73,
   "metadata": {},
   "outputs": [],
   "source": [
    "mapping_decimal_to_roman = {\n",
    "    1000 : \"M\",\n",
    "    900 : \"CM\",\n",
    "    500 : \"D\",\n",
    "    400 : \"CD\",\n",
    "    100 : \"C\",\n",
    "    90 : \"XC\",\n",
    "    50 : \"L\",\n",
    "    40 : \"XL\",\n",
    "    10 : \"X\",\n",
    "    9 : \"IX\",\n",
    "    5 : \"V\",\n",
    "    4 : \"IV\",\n",
    "    1 : \"I\"\n",
    "}"
   ]
  },
  {
   "cell_type": "code",
   "execution_count": 74,
   "metadata": {},
   "outputs": [],
   "source": [
    "def decimal_to_roman(dec):\n",
    "    rom = ''\n",
    "    for item in mapping_decimal_to_roman:\n",
    "        rom += mapping_decimal_to_roman[item] * (dec // item)\n",
    "        dec = dec % item\n",
    "    return rom"
   ]
  },
  {
   "cell_type": "markdown",
   "metadata": {},
   "source": [
    "You need to come up with test cases to show that your conversion works as expected. \n",
    "NB: the conversion is ambiguous in some cases. Any valid conversion is accepted. "
   ]
  },
  {
   "cell_type": "markdown",
   "metadata": {},
   "source": [
    "Now you can run tests in file `tests_decimal_to_roman.txt`. You need to insert a number of false results and listed false results in respective fields in Google Form for this lesson."
   ]
  },
  {
   "cell_type": "code",
   "execution_count": 75,
   "metadata": {},
   "outputs": [],
   "source": [
    "p_decimal = \"tests_decimal_to_roman.txt\"\n",
    "with open(p_decimal, \"rb\") as fp_decimal:\n",
    "    lines_decimal=fp_decimal.readlines()\n",
    "\n",
    "test_data_decimal = [line.strip().decode(\"ascii\").split(',') for line in lines_decimal]\n",
    "test_data_decimal = [(line[0], int(line[1])) for line in test_data_decimal]"
   ]
  },
  {
   "cell_type": "code",
   "execution_count": 77,
   "metadata": {},
   "outputs": [
    {
     "name": "stdout",
     "output_type": "stream",
     "text": [
      "MDCCCLXXXVIII 1886\n",
      "CMLXXV 978\n",
      "MDCCCXLIV 1841\n",
      "MDCCCIII 1804\n",
      "MDCCCVIII 1807\n",
      "MCMLXXVI 1975\n"
     ]
    }
   ],
   "source": [
    "for rom, dec in test_data_decimal:\n",
    "    converted = decimal_to_roman(dec)\n",
    "    if converted != rom:\n",
    "        print(rom, dec)"
   ]
  }
 ],
 "metadata": {
  "kernelspec": {
   "display_name": "Python 3",
   "language": "python",
   "name": "python3"
  },
  "language_info": {
   "codemirror_mode": {
    "name": "ipython",
    "version": 3
   },
   "file_extension": ".py",
   "mimetype": "text/x-python",
   "name": "python",
   "nbconvert_exporter": "python",
   "pygments_lexer": "ipython3",
   "version": "3.7.3"
  }
 },
 "nbformat": 4,
 "nbformat_minor": 2
}
